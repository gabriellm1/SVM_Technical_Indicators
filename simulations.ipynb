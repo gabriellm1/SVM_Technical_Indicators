{
 "metadata": {
  "language_info": {
   "codemirror_mode": {
    "name": "ipython",
    "version": 3
   },
   "file_extension": ".py",
   "mimetype": "text/x-python",
   "name": "python",
   "nbconvert_exporter": "python",
   "pygments_lexer": "ipython3",
   "version": "3.9.1"
  },
  "orig_nbformat": 4,
  "kernelspec": {
   "name": "python3",
   "display_name": "Python 3.9.1 64-bit ('master-python': conda)"
  },
  "interpreter": {
   "hash": "560c426486ebbd48e358d06a5540993ebf6cca346d263cc2e01d24f13297fd52"
  }
 },
 "nbformat": 4,
 "nbformat_minor": 2,
 "cells": [
  {
   "cell_type": "code",
   "execution_count": 1,
   "metadata": {},
   "outputs": [],
   "source": [
    "# Para fazer o backtesting\n",
    "from backtesting import TradingSystem, MarketData, Order, Strategy, Event, evaluateHist\n",
    "\n",
    "from funcs import *\n",
    "from indicators import *"
   ]
  },
  {
   "source": [
    "## Coletando dados"
   ],
   "cell_type": "markdown",
   "metadata": {}
  },
  {
   "cell_type": "code",
   "execution_count": 2,
   "metadata": {},
   "outputs": [],
   "source": [
    "# getData(['VALE3.SA','ITUB4.SA','PETR4.SA','ENBR3.SA','ENEV3.SA','GGBR3.SA','SUZB3.SA','EMBR3.SA','TUPY3.SA','FLRY3.SA','RADL3.SA','BBDC3.SA','SANB11.SA','TOTS3.SA','SQIA3.SA'],'2016-05-21','2021-05-21',252*2)"
   ]
  },
  {
   "cell_type": "code",
   "execution_count": 3,
   "metadata": {},
   "outputs": [],
   "source": [
    "# getData(['AAPL','MSFT','AMZN','XOM','CVX','SHW','UNP','DUK','ED','UNH','JNJ','BRK-A','JPM','FB','GOOGL'],'2016-05-21','2021-05-21',252*2)"
   ]
  },
  {
   "cell_type": "code",
   "execution_count": 4,
   "metadata": {},
   "outputs": [],
   "source": [
    "# getData(['BTC-USD','ETH-USD'],'2016-05-21','2021-05-21',252*2)"
   ]
  },
  {
   "cell_type": "code",
   "execution_count": 5,
   "metadata": {},
   "outputs": [],
   "source": [
    "ind_list = [(RSI,14),(MFI,14),(ATR,14),(MOM,3),(OBV,14)]"
   ]
  },
  {
   "source": [
    "## Criptoativos"
   ],
   "cell_type": "markdown",
   "metadata": {}
  },
  {
   "cell_type": "code",
   "execution_count": 6,
   "metadata": {},
   "outputs": [],
   "source": [
    "df_btc = formatDF('./data/BTC-USD-train.csv', ind_list)\n",
    "df_eth = formatDF('./data/ETH-USD-train.csv', ind_list)"
   ]
  },
  {
   "cell_type": "code",
   "execution_count": 7,
   "metadata": {},
   "outputs": [],
   "source": [
    "model_btc, scaler_btc, report_btc = train_test_model(df_btc)\n",
    "model_eth, scaler_eth, report_eth = train_test_model(df_eth)"
   ]
  },
  {
   "cell_type": "code",
   "execution_count": 8,
   "metadata": {},
   "outputs": [
    {
     "output_type": "stream",
     "name": "stdout",
     "text": [
      "\n-------------------------BTC-------------------------\n               precision    recall  f1-score   support\n\n        -1.0       0.47      0.04      0.07       181\n         1.0       0.54      0.96      0.69       211\n\n    accuracy                           0.54       392\n   macro avg       0.50      0.50      0.38       392\nweighted avg       0.51      0.54      0.40       392\n\n\n-------------------------ETH-------------------------\n               precision    recall  f1-score   support\n\n        -1.0       0.54      0.62      0.58       203\n         1.0       0.51      0.42      0.46       189\n\n    accuracy                           0.53       392\n   macro avg       0.52      0.52      0.52       392\nweighted avg       0.52      0.53      0.52       392\n\n"
     ]
    }
   ],
   "source": [
    "print('\\n-------------------------BTC-------------------------\\n' , report_btc) \n",
    "print('\\n-------------------------ETH-------------------------\\n' , report_eth)"
   ]
  },
  {
   "cell_type": "code",
   "execution_count": 9,
   "metadata": {},
   "outputs": [],
   "source": [
    "clas_btc = MLClassifier(model_btc, 20, scaler_btc)\n",
    "clas_eth = MLClassifier(model_eth, 20, scaler_eth)"
   ]
  },
  {
   "cell_type": "code",
   "execution_count": 10,
   "metadata": {},
   "outputs": [
    {
     "output_type": "stream",
     "name": "stdout",
     "text": [
      "Number of trades: 11\n",
      "Gross P&L: 1854.95\n",
      "Gross Accumulated return: 0.83%\n",
      "Gross Average Return: 4.57%\n",
      "Net P&L: 1854.95\n",
      "Hitting ratio: 45.45%\n",
      "Max Profit: 8463.74\n",
      "Max Drawdown: -4746.26\n",
      "\n",
      "Number of trades: 9\n",
      "Gross P&L: 2168.80\n",
      "Gross Accumulated return: 132.07%\n",
      "Gross Average Return: 14.73%\n",
      "Net P&L: 2168.80\n",
      "Hitting ratio: 44.44%\n",
      "Max Profit: 2213.65\n",
      "Max Drawdown: -27.72\n",
      "\n"
     ]
    }
   ],
   "source": [
    "print(evaluateHist(clas_btc, {'BTC-USD':'./data/BTC-USD-back.csv'}))\n",
    "print(evaluateHist(clas_eth, {'ETH-USD':'./data/ETH-USD-back.csv'}))"
   ]
  },
  {
   "cell_type": "code",
   "execution_count": 11,
   "metadata": {},
   "outputs": [
    {
     "output_type": "stream",
     "name": "stdout",
     "text": [
      "Number of trades: 1\nGross P&L: 30111.09\nGross Accumulated return: 418.58%\nGross Average Return: 418.58%\nNet P&L: 30111.09\nHitting ratio: 100.00%\nMax Profit: 30111.09\nMax Drawdown: 30111.09\n\nNumber of trades: 1\nGross P&L: 2301.01\nGross Accumulated return: 1775.32%\nGross Average Return: 1775.32%\nNet P&L: 2301.01\nHitting ratio: 100.00%\nMax Profit: 2301.01\nMax Drawdown: 2301.01\n\n"
     ]
    }
   ],
   "source": [
    "print(evaluateHist(BuynHold(), {'BTC-USD':'./data/BTC-USD-back.csv'}))\n",
    "print(evaluateHist(BuynHold(), {'ETH-USD':'./data/ETH-USD-back.csv'}))"
   ]
  },
  {
   "source": [
    "# Alto Volume de Negociação"
   ],
   "cell_type": "markdown",
   "metadata": {}
  },
  {
   "source": [
    "## Mercado Brasileiro"
   ],
   "cell_type": "markdown",
   "metadata": {}
  },
  {
   "cell_type": "code",
   "execution_count": 12,
   "metadata": {},
   "outputs": [],
   "source": [
    "df_vale = formatDF('./data/VALE3.SA-train.csv', ind_list)\n",
    "df_petr = formatDF('./data/PETR4.SA-train.csv', ind_list)\n",
    "df_itub = formatDF('./data/ITUB4.SA-train.csv', ind_list)"
   ]
  },
  {
   "cell_type": "code",
   "execution_count": 13,
   "metadata": {},
   "outputs": [],
   "source": [
    "import warnings\n",
    "warnings.filterwarnings('ignore')\n",
    "model_vale, scaler_vale, report_vale = train_test_model(df_vale)\n",
    "model_petr, scaler_petr, report_petr = train_test_model(df_petr)\n",
    "model_itub, scaler_itub, report_itub = train_test_model(df_itub)"
   ]
  },
  {
   "cell_type": "code",
   "execution_count": 14,
   "metadata": {},
   "outputs": [
    {
     "output_type": "stream",
     "name": "stdout",
     "text": [
      "\n-------------------------VALE3-------------------------\n               precision    recall  f1-score   support\n\n        -1.0       0.45      0.18      0.26       103\n         0.0       0.00      0.00      0.00         5\n         1.0       0.49      0.79      0.61       109\n\n    accuracy                           0.48       217\n   macro avg       0.31      0.32      0.29       217\nweighted avg       0.46      0.48      0.43       217\n\n\n-------------------------PETR4-------------------------\n               precision    recall  f1-score   support\n\n        -1.0       0.60      0.09      0.15       102\n         0.0       0.00      0.00      0.00        13\n         1.0       0.48      0.94      0.63       102\n\n    accuracy                           0.48       217\n   macro avg       0.36      0.34      0.26       217\nweighted avg       0.51      0.48      0.37       217\n\n\n-------------------------ITUB4-------------------------\n               precision    recall  f1-score   support\n\n        -1.0       0.46      0.56      0.51        90\n         0.0       0.00      0.00      0.00         7\n         1.0       0.61      0.56      0.59       120\n\n    accuracy                           0.54       217\n   macro avg       0.36      0.37      0.36       217\nweighted avg       0.53      0.54      0.53       217\n\n"
     ]
    }
   ],
   "source": [
    "print('\\n-------------------------VALE3-------------------------\\n' , report_vale)\n",
    "print('\\n-------------------------PETR4-------------------------\\n' , report_petr)\n",
    "print('\\n-------------------------ITUB4-------------------------\\n' , report_itub)"
   ]
  },
  {
   "cell_type": "code",
   "execution_count": 15,
   "metadata": {},
   "outputs": [],
   "source": [
    "clas_vale = MLClassifier(model_vale, 20, scaler_vale)\n",
    "clas_petr = MLClassifier(model_petr, 20, scaler_petr)\n",
    "clas_itub = MLClassifier(model_itub, 20, scaler_itub)"
   ]
  },
  {
   "cell_type": "code",
   "execution_count": 16,
   "metadata": {},
   "outputs": [
    {
     "output_type": "stream",
     "name": "stdout",
     "text": [
      "Number of trades: 11\n",
      "Gross P&L: 31.16\n",
      "Gross Accumulated return: 3.17%\n",
      "Gross Average Return: 3.00%\n",
      "Net P&L: 31.16\n",
      "Hitting ratio: 45.45%\n",
      "Max Profit: 33.80\n",
      "Max Drawdown: -7.32\n",
      "\n",
      "Number of trades: 11\n",
      "Gross P&L: 12.87\n",
      "Gross Accumulated return: 4.49%\n",
      "Gross Average Return: 1.53%\n",
      "Net P&L: 12.87\n",
      "Hitting ratio: 54.55%\n",
      "Max Profit: 5.48\n",
      "Max Drawdown: -1.88\n",
      "\n",
      "Number of trades: 107\n",
      "Gross P&L: 3.70\n",
      "Gross Accumulated return: 0.12%\n",
      "Gross Average Return: -0.01%\n",
      "Net P&L: 3.70\n",
      "Hitting ratio: 60.75%\n",
      "Max Profit: 1.91\n",
      "Max Drawdown: -6.97\n",
      "\n"
     ]
    }
   ],
   "source": [
    "print(evaluateHist(clas_vale, {'VALE3.SA':'./data/VALE3.SA-back.csv'}))\n",
    "print(evaluateHist(clas_petr, {'PETR4.SA':'./data/PETR4.SA-back.csv'}))\n",
    "print(evaluateHist(clas_itub, {'ITUB4.SA':'./data/ITUB4.SA-back.csv'}))"
   ]
  },
  {
   "cell_type": "code",
   "execution_count": 17,
   "metadata": {},
   "outputs": [
    {
     "output_type": "stream",
     "name": "stdout",
     "text": [
      "Number of trades: 1\nGross P&L: 66.64\nGross Accumulated return: 149.85%\nGross Average Return: 149.85%\nNet P&L: 66.64\nHitting ratio: 100.00%\nMax Profit: 66.64\nMax Drawdown: 66.64\n\nNumber of trades: 1\nGross P&L: 1.24\nGross Accumulated return: 5.03%\nGross Average Return: 5.03%\nNet P&L: 1.24\nHitting ratio: 100.00%\nMax Profit: 1.24\nMax Drawdown: 1.24\n\nNumber of trades: 1\nGross P&L: -1.43\nGross Accumulated return: -4.67%\nGross Average Return: -4.67%\nNet P&L: -1.43\nHitting ratio: 0.00%\nMax Profit: -1.43\nMax Drawdown: -1.43\n\n"
     ]
    }
   ],
   "source": [
    "print(evaluateHist(BuynHold(), {'VALE3.SA':'./data/VALE3.SA-back.csv'}))\n",
    "print(evaluateHist(BuynHold(), {'PETR4.SA':'./data/PETR4.SA-back.csv'}))\n",
    "print(evaluateHist(BuynHold(), {'ITUB4.SA':'./data/ITUB4.SA-back.csv'}))"
   ]
  },
  {
   "source": [
    "## Mercado Americano"
   ],
   "cell_type": "markdown",
   "metadata": {}
  },
  {
   "cell_type": "code",
   "execution_count": 18,
   "metadata": {},
   "outputs": [],
   "source": [
    "df_aapl = formatDF('./data/AAPL-train.csv', ind_list)\n",
    "df_msft = formatDF('./data/MSFT-train.csv', ind_list)\n",
    "df_amzn = formatDF('./data/AMZN-train.csv', ind_list)"
   ]
  },
  {
   "cell_type": "code",
   "execution_count": 19,
   "metadata": {},
   "outputs": [],
   "source": [
    "import warnings\n",
    "warnings.filterwarnings('ignore')\n",
    "model_aapl, scaler_aapl, report_aapl = train_test_model(df_aapl)\n",
    "model_msft, scaler_msft, report_msft = train_test_model(df_msft)\n",
    "model_amzn, scaler_amzn, report_amzn = train_test_model(df_amzn)"
   ]
  },
  {
   "cell_type": "code",
   "execution_count": 20,
   "metadata": {},
   "outputs": [
    {
     "output_type": "stream",
     "name": "stdout",
     "text": [
      "\n-------------------------AAPL-------------------------\n               precision    recall  f1-score   support\n\n        -1.0       0.40      0.13      0.20       104\n         1.0       0.52      0.82      0.64       118\n\n    accuracy                           0.50       222\n   macro avg       0.46      0.48      0.42       222\nweighted avg       0.46      0.50      0.43       222\n\n\n-------------------------MSFT-------------------------\n               precision    recall  f1-score   support\n\n        -1.0       0.31      0.04      0.07       104\n         0.0       0.00      0.00      0.00         2\n         1.0       0.52      0.93      0.66       116\n\n    accuracy                           0.50       222\n   macro avg       0.27      0.32      0.24       222\nweighted avg       0.41      0.50      0.38       222\n\n\n-------------------------AMZN-------------------------\n               precision    recall  f1-score   support\n\n        -1.0       0.00      0.00      0.00       101\n         1.0       0.55      1.00      0.71       121\n\n    accuracy                           0.55       222\n   macro avg       0.27      0.50      0.35       222\nweighted avg       0.30      0.55      0.38       222\n\n"
     ]
    }
   ],
   "source": [
    "print('\\n-------------------------AAPL-------------------------\\n' , report_aapl)\n",
    "print('\\n-------------------------MSFT-------------------------\\n' , report_msft)\n",
    "print('\\n-------------------------AMZN-------------------------\\n' , report_amzn)"
   ]
  },
  {
   "cell_type": "code",
   "execution_count": 21,
   "metadata": {},
   "outputs": [],
   "source": [
    "clas_aapl = MLClassifier(model_aapl, 20, scaler_aapl)\n",
    "clas_msft = MLClassifier(model_msft, 20, scaler_msft)\n",
    "clas_amzn = MLClassifier(model_amzn, 20, scaler_amzn)"
   ]
  },
  {
   "cell_type": "code",
   "execution_count": 22,
   "metadata": {},
   "outputs": [
    {
     "output_type": "stream",
     "name": "stdout",
     "text": [
      "Number of trades: 5\n",
      "Gross P&L: -30.04\n",
      "Gross Accumulated return: -4.71%\n",
      "Gross Average Return: -1.80%\n",
      "Net P&L: -30.04\n",
      "Hitting ratio: 40.00%\n",
      "Max Profit: 3.50\n",
      "Max Drawdown: -18.51\n",
      "\n",
      "Number of trades: 0\n",
      "Gross P&L: 0.00\n",
      "Gross Accumulated return: 0.00%\n",
      "Gross Average Return: 0.00%\n",
      "Net P&L: 0.00\n",
      "Hitting ratio: 0.00%\n",
      "Max Profit: -inf\n",
      "Max Drawdown: inf\n",
      "\n",
      "Number of trades: 0\n",
      "Gross P&L: 0.00\n",
      "Gross Accumulated return: 0.00%\n",
      "Gross Average Return: 0.00%\n",
      "Net P&L: 0.00\n",
      "Hitting ratio: 0.00%\n",
      "Max Profit: -inf\n",
      "Max Drawdown: inf\n",
      "\n"
     ]
    }
   ],
   "source": [
    "print(evaluateHist(clas_vale, {'AAPL':'./data/AAPL-back.csv'}))\n",
    "print(evaluateHist(clas_petr, {'MSFT':'./data/MSFT-back.csv'}))\n",
    "print(evaluateHist(clas_itub, {'AMZN':'./data/AMZN-back.csv'}))"
   ]
  },
  {
   "cell_type": "code",
   "execution_count": 23,
   "metadata": {},
   "outputs": [
    {
     "output_type": "stream",
     "name": "stdout",
     "text": [
      "Number of trades: 1\nGross P&L: 82.46\nGross Accumulated return: 183.83%\nGross Average Return: 183.83%\nNet P&L: 82.46\nHitting ratio: 100.00%\nMax Profit: 82.46\nMax Drawdown: 82.46\n\nNumber of trades: 1\nGross P&L: 121.57\nGross Accumulated return: 97.33%\nGross Average Return: 97.33%\nNet P&L: 121.57\nHitting ratio: 100.00%\nMax Profit: 121.57\nMax Drawdown: 121.57\n\nNumber of trades: 1\nGross P&L: 1388.00\nGross Accumulated return: 74.64%\nGross Average Return: 74.64%\nNet P&L: 1388.00\nHitting ratio: 100.00%\nMax Profit: 1388.00\nMax Drawdown: 1388.00\n\n"
     ]
    }
   ],
   "source": [
    "print(evaluateHist(BuynHold(), {'AAPL':'./data/AAPL-back.csv'}))\n",
    "print(evaluateHist(BuynHold(), {'MSFT':'./data/MSFT-back.csv'}))\n",
    "print(evaluateHist(BuynHold(), {'AMZN':'./data/AMZN-back.csv'}))"
   ]
  },
  {
   "source": [
    "# Setores\n",
    "## Energia\n",
    "\n",
    "### Mercado Brasileiro"
   ],
   "cell_type": "markdown",
   "metadata": {}
  },
  {
   "cell_type": "code",
   "execution_count": 24,
   "metadata": {},
   "outputs": [],
   "source": [
    "df_enbr = formatDF('./data/ENBR3.SA-train.csv', ind_list)\n",
    "df_enev = formatDF('./data/ENEV3.SA-train.csv', ind_list)"
   ]
  },
  {
   "cell_type": "code",
   "execution_count": 25,
   "metadata": {},
   "outputs": [],
   "source": [
    "import warnings\n",
    "warnings.filterwarnings('ignore')\n",
    "model_enbr, scaler_enbr, report_enbr = train_test_model(df_enbr)\n",
    "model_enev, scaler_enev, report_enev = train_test_model(df_enev)"
   ]
  },
  {
   "cell_type": "code",
   "execution_count": 26,
   "metadata": {},
   "outputs": [
    {
     "output_type": "stream",
     "name": "stdout",
     "text": [
      "\n-------------------------ENBR3-------------------------\n               precision    recall  f1-score   support\n\n        -1.0       0.43      0.63      0.51        90\n         0.0       0.00      0.00      0.00         8\n         1.0       0.58      0.41      0.48       119\n\n    accuracy                           0.49       217\n   macro avg       0.34      0.35      0.33       217\nweighted avg       0.50      0.49      0.48       217\n\n\n-------------------------ENEV3-------------------------\n               precision    recall  f1-score   support\n\n        -1.0       0.50      0.19      0.28       103\n         0.0       0.00      0.00      0.00        18\n         1.0       0.44      0.81      0.57        96\n\n    accuracy                           0.45       217\n   macro avg       0.31      0.34      0.28       217\nweighted avg       0.43      0.45      0.39       217\n\n"
     ]
    }
   ],
   "source": [
    "print('\\n-------------------------ENBR3-------------------------\\n' , report_enbr)\n",
    "print('\\n-------------------------ENEV3-------------------------\\n' , report_enev)"
   ]
  },
  {
   "cell_type": "code",
   "execution_count": 27,
   "metadata": {},
   "outputs": [],
   "source": [
    "clas_enbr = MLClassifier(model_enbr, 20, scaler_enbr)\n",
    "clas_enev = MLClassifier(model_enev, 20, scaler_enev)"
   ]
  },
  {
   "cell_type": "code",
   "execution_count": 28,
   "metadata": {},
   "outputs": [
    {
     "output_type": "stream",
     "name": "stdout",
     "text": [
      "Number of trades: 1\n",
      "Gross P&L: -0.31\n",
      "Gross Accumulated return: -1.63%\n",
      "Gross Average Return: -1.63%\n",
      "Net P&L: -0.31\n",
      "Hitting ratio: 0.00%\n",
      "Max Profit: -0.31\n",
      "Max Drawdown: -0.31\n",
      "\n",
      "Number of trades: 1\n",
      "Gross P&L: 11.07\n",
      "Gross Accumulated return: 190.53%\n",
      "Gross Average Return: 190.53%\n",
      "Net P&L: 11.07\n",
      "Hitting ratio: 100.00%\n",
      "Max Profit: 11.07\n",
      "Max Drawdown: 11.07\n",
      "\n"
     ]
    }
   ],
   "source": [
    "print(evaluateHist(clas_enbr, {'ENBR3.SA':'./data/ENBR3.SA-back.csv'}))\n",
    "print(evaluateHist(clas_enev, {'ENEV3.SA':'./data/ENEV3.SA-back.csv'}))"
   ]
  },
  {
   "cell_type": "code",
   "execution_count": 29,
   "metadata": {},
   "outputs": [
    {
     "output_type": "stream",
     "name": "stdout",
     "text": [
      "Number of trades: 1\nGross P&L: 2.39\nGross Accumulated return: 14.72%\nGross Average Return: 14.72%\nNet P&L: 2.39\nHitting ratio: 100.00%\nMax Profit: 2.39\nMax Drawdown: 2.39\n\nNumber of trades: 1\nGross P&L: 11.76\nGross Accumulated return: 229.53%\nGross Average Return: 229.53%\nNet P&L: 11.76\nHitting ratio: 100.00%\nMax Profit: 11.76\nMax Drawdown: 11.76\n\n"
     ]
    }
   ],
   "source": [
    "print(evaluateHist(BuynHold(), {'ENBR3.SA':'./data/ENBR3.SA-back.csv'}))\n",
    "print(evaluateHist(BuynHold(), {'ENEV3.SA':'./data/ENEV3.SA-back.csv'}))"
   ]
  },
  {
   "source": [
    "### Mercado Americano"
   ],
   "cell_type": "markdown",
   "metadata": {}
  },
  {
   "cell_type": "code",
   "execution_count": 30,
   "metadata": {},
   "outputs": [],
   "source": [
    "df_xom = formatDF('./data/XOM-train.csv', ind_list)\n",
    "df_cvx = formatDF('./data/CVX-train.csv', ind_list)"
   ]
  },
  {
   "cell_type": "code",
   "execution_count": 31,
   "metadata": {},
   "outputs": [],
   "source": [
    "import warnings\n",
    "warnings.filterwarnings('ignore')\n",
    "model_xom, scaler_xom, report_xom = train_test_model(df_xom)\n",
    "model_cvx, scaler_cvx, report_cvx = train_test_model(df_cvx)"
   ]
  },
  {
   "cell_type": "code",
   "execution_count": 32,
   "metadata": {},
   "outputs": [
    {
     "output_type": "stream",
     "name": "stdout",
     "text": [
      "\n-------------------------XOM-------------------------\n               precision    recall  f1-score   support\n\n        -1.0       0.55      0.55      0.55       109\n         0.0       0.00      0.00      0.00         1\n         1.0       0.56      0.56      0.56       112\n\n    accuracy                           0.55       222\n   macro avg       0.37      0.37      0.37       222\nweighted avg       0.55      0.55      0.55       222\n\n\n-------------------------CVX-------------------------\n               precision    recall  f1-score   support\n\n        -1.0       0.49      0.32      0.39       106\n         1.0       0.53      0.69      0.60       116\n\n    accuracy                           0.51       222\n   macro avg       0.51      0.51      0.49       222\nweighted avg       0.51      0.51      0.50       222\n\n"
     ]
    }
   ],
   "source": [
    "print('\\n-------------------------XOM-------------------------\\n' , report_xom)\n",
    "print('\\n-------------------------CVX-------------------------\\n' , report_cvx)"
   ]
  },
  {
   "cell_type": "code",
   "execution_count": 33,
   "metadata": {},
   "outputs": [],
   "source": [
    "clas_xom = MLClassifier(model_xom, 20, scaler_enbr)\n",
    "clas_cvx = MLClassifier(model_enev, 20, scaler_enev)"
   ]
  },
  {
   "cell_type": "code",
   "execution_count": 34,
   "metadata": {},
   "outputs": [
    {
     "output_type": "stream",
     "name": "stdout",
     "text": [
      "Number of trades: 1\n",
      "Gross P&L: -8.26\n",
      "Gross Accumulated return: -12.32%\n",
      "Gross Average Return: -12.32%\n",
      "Net P&L: -8.26\n",
      "Hitting ratio: 0.00%\n",
      "Max Profit: -8.26\n",
      "Max Drawdown: -8.26\n",
      "\n",
      "Number of trades: 1\n",
      "Gross P&L: -8.74\n",
      "Gross Accumulated return: -7.78%\n",
      "Gross Average Return: -7.78%\n",
      "Net P&L: -8.74\n",
      "Hitting ratio: 0.00%\n",
      "Max Profit: -8.74\n",
      "Max Drawdown: -8.74\n",
      "\n"
     ]
    }
   ],
   "source": [
    "print(evaluateHist(clas_xom, {'XOM':'./data/XOM-back.csv'}))\n",
    "print(evaluateHist(clas_cvx, {'CVX':'./data/CVX-back.csv'}))"
   ]
  },
  {
   "cell_type": "code",
   "execution_count": 35,
   "metadata": {},
   "outputs": [
    {
     "output_type": "stream",
     "name": "stdout",
     "text": [
      "Number of trades: 1\nGross P&L: -7.34\nGross Accumulated return: -11.10%\nGross Average Return: -11.10%\nNet P&L: -7.34\nHitting ratio: 0.00%\nMax Profit: -7.34\nMax Drawdown: -7.34\n\nNumber of trades: 1\nGross P&L: -5.39\nGross Accumulated return: -4.95%\nGross Average Return: -4.95%\nNet P&L: -5.39\nHitting ratio: 0.00%\nMax Profit: -5.39\nMax Drawdown: -5.39\n\n"
     ]
    }
   ],
   "source": [
    "print(evaluateHist(BuynHold(), {'XOM':'./data/XOM-back.csv'}))\n",
    "print(evaluateHist(BuynHold(), {'CVX':'./data/CVX-back.csv'}))"
   ]
  },
  {
   "source": [
    "## Materiais\n",
    "### Mercado Brasileiro"
   ],
   "cell_type": "markdown",
   "metadata": {}
  },
  {
   "cell_type": "code",
   "execution_count": 36,
   "metadata": {},
   "outputs": [
    {
     "output_type": "stream",
     "name": "stdout",
     "text": [
      "\n",
      "-------------------------GGBR3.SA-------------------------\n",
      "               precision    recall  f1-score   support\n",
      "\n",
      "        -1.0       0.49      0.46      0.47        98\n",
      "         0.0       0.00      0.00      0.00         8\n",
      "         1.0       0.55      0.62      0.58       111\n",
      "\n",
      "    accuracy                           0.53       217\n",
      "   macro avg       0.35      0.36      0.35       217\n",
      "weighted avg       0.50      0.53      0.51       217\n",
      "\n",
      "\n",
      "-------------------------SUZB3.SA-------------------------\n",
      "               precision    recall  f1-score   support\n",
      "\n",
      "        -1.0       0.38      0.39      0.38        54\n",
      "         0.0       0.00      0.00      0.00         1\n",
      "         1.0       0.38      0.37      0.37        54\n",
      "\n",
      "    accuracy                           0.38       109\n",
      "   macro avg       0.25      0.25      0.25       109\n",
      "weighted avg       0.37      0.38      0.37       109\n",
      "\n",
      "Number of trades: 46\n",
      "Gross P&L: 1.02\n",
      "Gross Accumulated return: 0.16%\n",
      "Gross Average Return: 0.09%\n",
      "Net P&L: 1.02\n",
      "Hitting ratio: 63.04%\n",
      "Max Profit: 5.63\n",
      "Max Drawdown: -7.18\n",
      "\n",
      "Number of trades: 41\n",
      "Gross P&L: 36.62\n",
      "Gross Accumulated return: 1.60%\n",
      "Gross Average Return: 0.75%\n",
      "Net P&L: 36.62\n",
      "Hitting ratio: 68.29%\n",
      "Max Profit: 14.42\n",
      "Max Drawdown: -10.26\n",
      "\n"
     ]
    }
   ],
   "source": [
    "df_ggbr = formatDF('./data/GGBR3.SA-train.csv', ind_list)\n",
    "df_suzb = formatDF('./data/SUZB3.SA-train.csv', ind_list)\n",
    "\n",
    "import warnings\n",
    "warnings.filterwarnings('ignore')\n",
    "model_ggbr, scaler_ggbr, report_ggbr = train_test_model(df_ggbr)\n",
    "model_suzb, scaler_suzb, report_suzb = train_test_model(df_suzb)\n",
    "\n",
    "print('\\n-------------------------GGBR3.SA-------------------------\\n' , report_ggbr)\n",
    "print('\\n-------------------------SUZB3.SA-------------------------\\n' , report_suzb)\n",
    "\n",
    "clas_ggbr = MLClassifier(model_ggbr, 20, scaler_ggbr)\n",
    "clas_suzb = MLClassifier(model_suzb, 20, scaler_suzb)\n",
    "\n",
    "print(evaluateHist(clas_ggbr, {'GGBR3.SA':'./data/GGBR3.SA-back.csv'}))\n",
    "print(evaluateHist(clas_suzb, {'SUZB3.SA':'./data/SUZB3.SA-back.csv'}))"
   ]
  },
  {
   "cell_type": "code",
   "execution_count": 37,
   "metadata": {},
   "outputs": [
    {
     "output_type": "stream",
     "name": "stdout",
     "text": [
      "Number of trades: 1\nGross P&L: 17.64\nGross Accumulated return: 161.50%\nGross Average Return: 161.50%\nNet P&L: 17.64\nHitting ratio: 100.00%\nMax Profit: 17.64\nMax Drawdown: 17.64\n\nNumber of trades: 1\nGross P&L: 22.19\nGross Accumulated return: 54.14%\nGross Average Return: 54.14%\nNet P&L: 22.19\nHitting ratio: 100.00%\nMax Profit: 22.19\nMax Drawdown: 22.19\n\n"
     ]
    }
   ],
   "source": [
    "print(evaluateHist(BuynHold(), {'GGBR3.SA':'./data/GGBR3.SA-back.csv'}))\n",
    "print(evaluateHist(BuynHold(), {'SUZB3.SA':'./data/SUZB3.SA-back.csv'}))"
   ]
  },
  {
   "source": [
    "## Mercado Americano"
   ],
   "cell_type": "markdown",
   "metadata": {}
  },
  {
   "cell_type": "code",
   "execution_count": 38,
   "metadata": {},
   "outputs": [
    {
     "output_type": "stream",
     "name": "stdout",
     "text": [
      "\n",
      "-------------------------SHW-------------------------\n",
      "               precision    recall  f1-score   support\n",
      "\n",
      "        -1.0       0.44      0.27      0.34        96\n",
      "         1.0       0.57      0.74      0.64       126\n",
      "\n",
      "    accuracy                           0.54       222\n",
      "   macro avg       0.51      0.50      0.49       222\n",
      "weighted avg       0.51      0.54      0.51       222\n",
      "\n",
      "\n",
      "-------------------------UNP-------------------------\n",
      "               precision    recall  f1-score   support\n",
      "\n",
      "        -1.0       0.45      0.21      0.29       107\n",
      "         1.0       0.51      0.76      0.61       115\n",
      "\n",
      "    accuracy                           0.50       222\n",
      "   macro avg       0.48      0.49      0.45       222\n",
      "weighted avg       0.48      0.50      0.46       222\n",
      "\n",
      "Number of trades: 61\n",
      "Gross P&L: 101.91\n",
      "Gross Accumulated return: 0.76%\n",
      "Gross Average Return: 0.11%\n",
      "Net P&L: 101.91\n",
      "Hitting ratio: 55.74%\n",
      "Max Profit: 31.57\n",
      "Max Drawdown: -22.27\n",
      "\n",
      "Number of trades: 41\n",
      "Gross P&L: 14.81\n",
      "Gross Accumulated return: 0.19%\n",
      "Gross Average Return: 0.17%\n",
      "Net P&L: 14.81\n",
      "Hitting ratio: 70.73%\n",
      "Max Profit: 16.15\n",
      "Max Drawdown: -37.57\n",
      "\n"
     ]
    }
   ],
   "source": [
    "df_shw = formatDF('./data/SHW-train.csv', ind_list)\n",
    "df_unp = formatDF('./data/UNP-train.csv', ind_list)\n",
    "\n",
    "import warnings\n",
    "warnings.filterwarnings('ignore')\n",
    "model_shw, scaler_shw, report_shw = train_test_model(df_shw)\n",
    "model_unp, scaler_unp, report_unp = train_test_model(df_unp)\n",
    "\n",
    "print('\\n-------------------------SHW-------------------------\\n' , report_shw)\n",
    "print('\\n-------------------------UNP-------------------------\\n' , report_unp)\n",
    "\n",
    "clas_shw = MLClassifier(model_shw, 20, scaler_shw)\n",
    "clas_unp = MLClassifier(model_unp, 20, scaler_unp)\n",
    "\n",
    "print(evaluateHist(clas_shw, {'SHW':'./data/SHW-back.csv'}))\n",
    "print(evaluateHist(clas_unp, {'UNP':'./data/UNP-back.csv'}))"
   ]
  },
  {
   "cell_type": "code",
   "execution_count": 39,
   "metadata": {},
   "outputs": [
    {
     "output_type": "stream",
     "name": "stdout",
     "text": [
      "Number of trades: 1\nGross P&L: 141.25\nGross Accumulated return: 99.93%\nGross Average Return: 99.93%\nNet P&L: 141.25\nHitting ratio: 100.00%\nMax Profit: 141.25\nMax Drawdown: 141.25\n\nNumber of trades: 1\nGross P&L: 54.50\nGross Accumulated return: 32.76%\nGross Average Return: 32.76%\nNet P&L: 54.50\nHitting ratio: 100.00%\nMax Profit: 54.50\nMax Drawdown: 54.50\n\n"
     ]
    }
   ],
   "source": [
    "print(evaluateHist(BuynHold(), {'SHW':'./data/SHW-back.csv'}))\n",
    "print(evaluateHist(BuynHold(), {'UNP':'./data/UNP-back.csv'}))"
   ]
  },
  {
   "source": [
    "## Indústria\n",
    "### Mercado Brasileiro"
   ],
   "cell_type": "markdown",
   "metadata": {}
  },
  {
   "cell_type": "code",
   "execution_count": 40,
   "metadata": {},
   "outputs": [
    {
     "output_type": "stream",
     "name": "stdout",
     "text": [
      "\n",
      "-------------------------EMBR3.SA-------------------------\n",
      "               precision    recall  f1-score   support\n",
      "\n",
      "        -1.0       0.47      0.65      0.55       102\n",
      "         0.0       0.00      0.00      0.00         6\n",
      "         1.0       0.49      0.35      0.41       109\n",
      "\n",
      "    accuracy                           0.48       217\n",
      "   macro avg       0.32      0.33      0.32       217\n",
      "weighted avg       0.47      0.48      0.46       217\n",
      "\n",
      "\n",
      "-------------------------TUPY3.SA-------------------------\n",
      "               precision    recall  f1-score   support\n",
      "\n",
      "        -1.0       0.50      0.62      0.55       104\n",
      "         0.0       0.00      0.00      0.00         9\n",
      "         1.0       0.52      0.45      0.48       104\n",
      "\n",
      "    accuracy                           0.51       217\n",
      "   macro avg       0.34      0.36      0.35       217\n",
      "weighted avg       0.49      0.51      0.50       217\n",
      "\n",
      "Number of trades: 62\n",
      "Gross P&L: 3.49\n",
      "Gross Accumulated return: 0.36%\n",
      "Gross Average Return: 0.02%\n",
      "Net P&L: 3.49\n",
      "Hitting ratio: 50.00%\n",
      "Max Profit: 3.72\n",
      "Max Drawdown: -7.44\n",
      "\n",
      "Number of trades: 103\n",
      "Gross P&L: -5.88\n",
      "Gross Accumulated return: -0.28%\n",
      "Gross Average Return: -0.04%\n",
      "Net P&L: -5.88\n",
      "Hitting ratio: 63.11%\n",
      "Max Profit: 3.51\n",
      "Max Drawdown: -8.24\n",
      "\n"
     ]
    }
   ],
   "source": [
    "df_embr = formatDF('./data/EMBR3.SA-train.csv', ind_list)\n",
    "df_tupy = formatDF('./data/TUPY3.SA-train.csv', ind_list)\n",
    "\n",
    "import warnings\n",
    "warnings.filterwarnings('ignore')\n",
    "model_embr, scaler_embr, report_embr = train_test_model(df_embr)\n",
    "model_tupy, scaler_tupy, report_tupy = train_test_model(df_tupy)\n",
    "\n",
    "print('\\n-------------------------EMBR3.SA-------------------------\\n' , report_embr)\n",
    "print('\\n-------------------------TUPY3.SA-------------------------\\n' , report_tupy)\n",
    "\n",
    "clas_embr = MLClassifier(model_embr, 20, scaler_embr)\n",
    "clas_tupy = MLClassifier(model_tupy, 20, scaler_tupy)\n",
    "\n",
    "print(evaluateHist(clas_embr, {'EMBR3.SA':'./data/EMBR3.SA-back.csv'}))\n",
    "print(evaluateHist(clas_tupy, {'TUPY3.SA':'./data/TUPY3.SA-back.csv'}))"
   ]
  },
  {
   "cell_type": "code",
   "execution_count": 41,
   "metadata": {},
   "outputs": [
    {
     "output_type": "stream",
     "name": "stdout",
     "text": [
      "Number of trades: 1\nGross P&L: -3.05\nGross Accumulated return: -15.89%\nGross Average Return: -15.89%\nNet P&L: -3.05\nHitting ratio: 0.00%\nMax Profit: -3.05\nMax Drawdown: -3.05\n\nNumber of trades: 1\nGross P&L: 8.92\nGross Accumulated return: 50.86%\nGross Average Return: 50.86%\nNet P&L: 8.92\nHitting ratio: 100.00%\nMax Profit: 8.92\nMax Drawdown: 8.92\n\n"
     ]
    }
   ],
   "source": [
    "print(evaluateHist(BuynHold(), {'EMBR3.SA':'./data/EMBR3.SA-back.csv'}))\n",
    "print(evaluateHist(BuynHold(), {'TUPY3.SA':'./data/TUPY3.SA-back.csv'}))"
   ]
  },
  {
   "source": [
    "### Mercado Americano"
   ],
   "cell_type": "markdown",
   "metadata": {}
  },
  {
   "cell_type": "code",
   "execution_count": 42,
   "metadata": {},
   "outputs": [
    {
     "output_type": "stream",
     "name": "stdout",
     "text": [
      "\n",
      "-------------------------DUK-------------------------\n",
      "               precision    recall  f1-score   support\n",
      "\n",
      "        -1.0       0.51      0.17      0.25       109\n",
      "         0.0       0.00      0.00      0.00         2\n",
      "         1.0       0.50      0.85      0.63       111\n",
      "\n",
      "    accuracy                           0.50       222\n",
      "   macro avg       0.34      0.34      0.29       222\n",
      "weighted avg       0.50      0.50      0.44       222\n",
      "\n",
      "\n",
      "-------------------------ED-------------------------\n",
      "               precision    recall  f1-score   support\n",
      "\n",
      "        -1.0       0.58      0.27      0.37        96\n",
      "         0.0       0.00      0.00      0.00         1\n",
      "         1.0       0.60      0.85      0.70       125\n",
      "\n",
      "    accuracy                           0.59       222\n",
      "   macro avg       0.39      0.37      0.36       222\n",
      "weighted avg       0.59      0.59      0.55       222\n",
      "\n",
      "Number of trades: 13\n",
      "Gross P&L: 3.10\n",
      "Gross Accumulated return: 0.25%\n",
      "Gross Average Return: 0.96%\n",
      "Net P&L: 3.10\n",
      "Hitting ratio: 46.15%\n",
      "Max Profit: 10.70\n",
      "Max Drawdown: -4.50\n",
      "\n",
      "Number of trades: 68\n",
      "Gross P&L: 7.79\n",
      "Gross Accumulated return: 0.16%\n",
      "Gross Average Return: -0.24%\n",
      "Net P&L: 7.79\n",
      "Hitting ratio: 70.59%\n",
      "Max Profit: 3.78\n",
      "Max Drawdown: -13.56\n",
      "\n"
     ]
    }
   ],
   "source": [
    "df_duk = formatDF('./data/DUK-train.csv', ind_list)\n",
    "df_ed = formatDF('./data/ED-train.csv', ind_list)\n",
    "\n",
    "import warnings\n",
    "warnings.filterwarnings('ignore')\n",
    "model_duk, scaler_duk, report_duk = train_test_model(df_duk)\n",
    "model_ed, scaler_ed, report_ed = train_test_model(df_ed)\n",
    "\n",
    "print('\\n-------------------------DUK-------------------------\\n' , report_duk)\n",
    "print('\\n-------------------------ED-------------------------\\n' , report_ed)\n",
    "\n",
    "clas_duk = MLClassifier(model_duk, 20, scaler_duk)\n",
    "clas_ed = MLClassifier(model_ed, 20, scaler_ed)\n",
    "\n",
    "print(evaluateHist(clas_duk, {'DUK':'./data/DUK-back.csv'}))\n",
    "print(evaluateHist(clas_ed, {'ED':'./data/ED-back.csv'}))"
   ]
  },
  {
   "cell_type": "code",
   "execution_count": 43,
   "metadata": {},
   "outputs": [
    {
     "output_type": "stream",
     "name": "stdout",
     "text": [
      "Number of trades: 1\nGross P&L: 21.55\nGross Accumulated return: 26.69%\nGross Average Return: 26.69%\nNet P&L: 21.55\nHitting ratio: 100.00%\nMax Profit: 21.55\nMax Drawdown: 21.55\n\nNumber of trades: 1\nGross P&L: -2.68\nGross Accumulated return: -3.30%\nGross Average Return: -3.30%\nNet P&L: -2.68\nHitting ratio: 0.00%\nMax Profit: -2.68\nMax Drawdown: -2.68\n\n"
     ]
    }
   ],
   "source": [
    "print(evaluateHist(BuynHold(), {'DUK':'./data/DUK-back.csv'}))\n",
    "print(evaluateHist(BuynHold(), {'ED':'./data/ED-back.csv'}))"
   ]
  },
  {
   "source": [
    "## Saúde\n",
    "### Mercado Brasileiro"
   ],
   "cell_type": "markdown",
   "metadata": {}
  },
  {
   "cell_type": "code",
   "execution_count": 44,
   "metadata": {},
   "outputs": [
    {
     "output_type": "stream",
     "name": "stdout",
     "text": [
      "\n",
      "-------------------------FLRY3.SA-------------------------\n",
      "               precision    recall  f1-score   support\n",
      "\n",
      "        -1.0       0.60      0.64      0.62       121\n",
      "         0.0       0.00      0.00      0.00         6\n",
      "         1.0       0.49      0.48      0.48        90\n",
      "\n",
      "    accuracy                           0.55       217\n",
      "   macro avg       0.36      0.37      0.37       217\n",
      "weighted avg       0.54      0.55      0.54       217\n",
      "\n",
      "\n",
      "-------------------------RADL3.SA-------------------------\n",
      "               precision    recall  f1-score   support\n",
      "\n",
      "        -1.0       0.50      0.65      0.57       111\n",
      "         0.0       0.00      0.00      0.00         6\n",
      "         1.0       0.45      0.33      0.38       100\n",
      "\n",
      "    accuracy                           0.48       217\n",
      "   macro avg       0.32      0.33      0.32       217\n",
      "weighted avg       0.46      0.48      0.46       217\n",
      "\n",
      "Number of trades: 7\n",
      "Gross P&L: 9.35\n",
      "Gross Accumulated return: 5.33%\n",
      "Gross Average Return: 4.98%\n",
      "Net P&L: 9.35\n",
      "Hitting ratio: 71.43%\n",
      "Max Profit: 6.18\n",
      "Max Drawdown: -0.82\n",
      "\n",
      "Number of trades: 103\n",
      "Gross P&L: 5.16\n",
      "Gross Accumulated return: 0.23%\n",
      "Gross Average Return: 0.02%\n",
      "Net P&L: 5.16\n",
      "Hitting ratio: 62.14%\n",
      "Max Profit: 2.96\n",
      "Max Drawdown: -2.78\n",
      "\n"
     ]
    }
   ],
   "source": [
    "df_flry = formatDF('./data/FLRY3.SA-train.csv', ind_list)\n",
    "df_radl = formatDF('./data/RADL3.SA-train.csv', ind_list)\n",
    "\n",
    "import warnings\n",
    "warnings.filterwarnings('ignore')\n",
    "model_flry, scaler_flry, report_flry = train_test_model(df_flry)\n",
    "model_radl, scaler_radl, report_radl = train_test_model(df_radl)\n",
    "\n",
    "print('\\n-------------------------FLRY3.SA-------------------------\\n' , report_flry)\n",
    "print('\\n-------------------------RADL3.SA-------------------------\\n' , report_radl)\n",
    "\n",
    "clas_flry = MLClassifier(model_flry, 20, scaler_flry)\n",
    "clas_radl = MLClassifier(model_radl, 20, scaler_radl)\n",
    "\n",
    "print(evaluateHist(clas_flry, {'FLRY3.SA':'./data/FLRY3.SA-back.csv'}))\n",
    "print(evaluateHist(clas_radl, {'RADL3.SA':'./data/RADL3.SA-back.csv'}))"
   ]
  },
  {
   "cell_type": "code",
   "execution_count": 45,
   "metadata": {},
   "outputs": [
    {
     "output_type": "stream",
     "name": "stdout",
     "text": [
      "Number of trades: 1\nGross P&L: 8.64\nGross Accumulated return: 45.49%\nGross Average Return: 45.49%\nNet P&L: 8.64\nHitting ratio: 100.00%\nMax Profit: 8.64\nMax Drawdown: 8.64\n\nNumber of trades: 1\nGross P&L: 13.61\nGross Accumulated return: 101.23%\nGross Average Return: 101.23%\nNet P&L: 13.61\nHitting ratio: 100.00%\nMax Profit: 13.61\nMax Drawdown: 13.61\n\n"
     ]
    }
   ],
   "source": [
    "print(evaluateHist(BuynHold(), {'FLRY3.SA':'./data/FLRY3.SA-back.csv'}))\n",
    "print(evaluateHist(BuynHold(), {'RADL3.SA':'./data/RADL3.SA-back.csv'}))"
   ]
  },
  {
   "source": [
    "### Mercado Americano"
   ],
   "cell_type": "markdown",
   "metadata": {}
  },
  {
   "cell_type": "code",
   "execution_count": 46,
   "metadata": {},
   "outputs": [
    {
     "output_type": "stream",
     "name": "stdout",
     "text": [
      "\n",
      "-------------------------UNH-------------------------\n",
      "               precision    recall  f1-score   support\n",
      "\n",
      "        -1.0       0.45      0.23      0.31       108\n",
      "         0.0       0.00      0.00      0.00         1\n",
      "         1.0       0.50      0.73      0.59       113\n",
      "\n",
      "    accuracy                           0.49       222\n",
      "   macro avg       0.32      0.32      0.30       222\n",
      "weighted avg       0.47      0.49      0.45       222\n",
      "\n",
      "\n",
      "-------------------------JNJ-------------------------\n",
      "               precision    recall  f1-score   support\n",
      "\n",
      "        -1.0       0.33      0.01      0.02       106\n",
      "         1.0       0.52      0.98      0.68       116\n",
      "\n",
      "    accuracy                           0.52       222\n",
      "   macro avg       0.43      0.50      0.35       222\n",
      "weighted avg       0.43      0.52      0.36       222\n",
      "\n",
      "Number of trades: 81\n",
      "Gross P&L: 180.53\n",
      "Gross Accumulated return: 0.73%\n",
      "Gross Average Return: 0.03%\n",
      "Net P&L: 180.53\n",
      "Hitting ratio: 66.67%\n",
      "Max Profit: 42.02\n",
      "Max Drawdown: -27.74\n",
      "\n",
      "Number of trades: 47\n",
      "Gross P&L: 84.62\n",
      "Gross Accumulated return: 1.28%\n",
      "Gross Average Return: -0.12%\n",
      "Net P&L: 84.62\n",
      "Hitting ratio: 74.47%\n",
      "Max Profit: 26.28\n",
      "Max Drawdown: -15.69\n",
      "\n"
     ]
    }
   ],
   "source": [
    "df_unh = formatDF('./data/UNH-train.csv', ind_list)\n",
    "df_jnj = formatDF('./data/JNJ-train.csv', ind_list)\n",
    "\n",
    "import warnings\n",
    "warnings.filterwarnings('ignore')\n",
    "model_unh, scaler_unh, report_unh = train_test_model(df_unh)\n",
    "model_jnj, scaler_jnj, report_jnj = train_test_model(df_jnj)\n",
    "\n",
    "print('\\n-------------------------UNH-------------------------\\n' , report_unh)\n",
    "print('\\n-------------------------JNJ-------------------------\\n' , report_jnj)\n",
    "\n",
    "clas_unh = MLClassifier(model_unh, 20, scaler_unh)\n",
    "clas_jnj = MLClassifier(model_jnj, 20, scaler_jnj)\n",
    "\n",
    "print(evaluateHist(clas_unh, {'UNH':'./data/UNH-back.csv'}))\n",
    "print(evaluateHist(clas_jnj, {'JNJ':'./data/JNJ-back.csv'}))"
   ]
  },
  {
   "cell_type": "code",
   "execution_count": 47,
   "metadata": {},
   "outputs": [
    {
     "output_type": "stream",
     "name": "stdout",
     "text": [
      "Number of trades: 1\nGross P&L: 167.35\nGross Accumulated return: 69.36%\nGross Average Return: 69.36%\nNet P&L: 167.35\nHitting ratio: 100.00%\nMax Profit: 167.35\nMax Drawdown: 167.35\n\nNumber of trades: 1\nGross P&L: 39.39\nGross Accumulated return: 30.15%\nGross Average Return: 30.15%\nNet P&L: 39.39\nHitting ratio: 100.00%\nMax Profit: 39.39\nMax Drawdown: 39.39\n\n"
     ]
    }
   ],
   "source": [
    "print(evaluateHist(BuynHold(), {'UNH':'./data/UNH-back.csv'}))\n",
    "print(evaluateHist(BuynHold(), {'JNJ':'./data/JNJ-back.csv'}))"
   ]
  },
  {
   "source": [
    "## Financeiro\n",
    "### Mercado Brasileiro"
   ],
   "cell_type": "markdown",
   "metadata": {}
  },
  {
   "cell_type": "code",
   "execution_count": 48,
   "metadata": {},
   "outputs": [
    {
     "output_type": "stream",
     "name": "stdout",
     "text": [
      "\n",
      "-------------------------BBDC3.SA-------------------------\n",
      "               precision    recall  f1-score   support\n",
      "\n",
      "        -1.0       0.57      0.17      0.27        98\n",
      "         0.0       0.00      0.00      0.00         6\n",
      "         1.0       0.53      0.88      0.67       113\n",
      "\n",
      "    accuracy                           0.54       217\n",
      "   macro avg       0.37      0.35      0.31       217\n",
      "weighted avg       0.53      0.54      0.47       217\n",
      "\n",
      "\n",
      "-------------------------SANB11.SA-------------------------\n",
      "               precision    recall  f1-score   support\n",
      "\n",
      "        -1.0       0.48      0.20      0.28       100\n",
      "         0.0       0.00      0.00      0.00         2\n",
      "         1.0       0.53      0.81      0.64       115\n",
      "\n",
      "    accuracy                           0.52       217\n",
      "   macro avg       0.34      0.34      0.31       217\n",
      "weighted avg       0.50      0.52      0.47       217\n",
      "\n",
      "Number of trades: 33\n",
      "Gross P&L: 11.35\n",
      "Gross Accumulated return: 1.49%\n",
      "Gross Average Return: 0.30%\n",
      "Net P&L: 11.35\n",
      "Hitting ratio: 66.67%\n",
      "Max Profit: 7.44\n",
      "Max Drawdown: -5.00\n",
      "\n",
      "Number of trades: 28\n",
      "Gross P&L: 14.81\n",
      "Gross Accumulated return: 1.33%\n",
      "Gross Average Return: 0.12%\n",
      "Net P&L: 14.81\n",
      "Hitting ratio: 71.43%\n",
      "Max Profit: 9.49\n",
      "Max Drawdown: -11.44\n",
      "\n"
     ]
    }
   ],
   "source": [
    "df_bbdc = formatDF('./data/BBDC3.SA-train.csv', ind_list)\n",
    "df_sanb = formatDF('./data/SANB11.SA-train.csv', ind_list)\n",
    "\n",
    "import warnings\n",
    "warnings.filterwarnings('ignore')\n",
    "model_bbdc, scaler_bbdc, report_bbdc = train_test_model(df_bbdc)\n",
    "model_sanb, scaler_sanb, report_sanb = train_test_model(df_sanb)\n",
    "\n",
    "print('\\n-------------------------BBDC3.SA-------------------------\\n' , report_bbdc)\n",
    "print('\\n-------------------------SANB11.SA-------------------------\\n' , report_sanb)\n",
    "\n",
    "clas_bbdc = MLClassifier(model_bbdc, 20, scaler_bbdc)\n",
    "clas_sanb = MLClassifier(model_sanb, 20, scaler_sanb)\n",
    "\n",
    "print(evaluateHist(clas_bbdc, {'BBDC3.SA':'./data/BBDC3.SA-back.csv'}))\n",
    "print(evaluateHist(clas_sanb, {'SANB11.SA':'./data/SANB11.SA-back.csv'}))"
   ]
  },
  {
   "cell_type": "code",
   "execution_count": 49,
   "metadata": {},
   "outputs": [
    {
     "output_type": "stream",
     "name": "stdout",
     "text": [
      "Number of trades: 1\nGross P&L: -0.58\nGross Accumulated return: -2.52%\nGross Average Return: -2.52%\nNet P&L: -0.58\nHitting ratio: 0.00%\nMax Profit: -0.58\nMax Drawdown: -0.58\n\nNumber of trades: 1\nGross P&L: 1.55\nGross Accumulated return: 3.96%\nGross Average Return: 3.96%\nNet P&L: 1.55\nHitting ratio: 100.00%\nMax Profit: 1.55\nMax Drawdown: 1.55\n\n"
     ]
    }
   ],
   "source": [
    "print(evaluateHist(BuynHold(), {'BBDC3.SA':'./data/BBDC3.SA-back.csv'}))\n",
    "print(evaluateHist(BuynHold(), {'SANB11.SA':'./data/SANB11.SA-back.csv'}))"
   ]
  },
  {
   "source": [
    "### Mercado Americano"
   ],
   "cell_type": "markdown",
   "metadata": {}
  },
  {
   "cell_type": "code",
   "execution_count": 50,
   "metadata": {},
   "outputs": [
    {
     "output_type": "stream",
     "name": "stdout",
     "text": [
      "\n",
      "-------------------------BRK-A-------------------------\n",
      "               precision    recall  f1-score   support\n",
      "\n",
      "        -1.0       0.45      0.23      0.31       108\n",
      "         0.0       0.00      0.00      0.00         1\n",
      "         1.0       0.50      0.73      0.59       113\n",
      "\n",
      "    accuracy                           0.49       222\n",
      "   macro avg       0.32      0.32      0.30       222\n",
      "weighted avg       0.47      0.49      0.45       222\n",
      "\n",
      "\n",
      "-------------------------JPM-------------------------\n",
      "               precision    recall  f1-score   support\n",
      "\n",
      "        -1.0       0.48      0.31      0.37       108\n",
      "         0.0       0.00      0.00      0.00         1\n",
      "         1.0       0.51      0.69      0.59       113\n",
      "\n",
      "    accuracy                           0.50       222\n",
      "   macro avg       0.33      0.33      0.32       222\n",
      "weighted avg       0.49      0.50      0.48       222\n",
      "\n",
      "Number of trades: 3\n",
      "Gross P&L: 114688.00\n",
      "Gross Accumulated return: 12.16%\n",
      "Gross Average Return: 4.15%\n",
      "Net P&L: 114688.00\n",
      "Hitting ratio: 66.67%\n",
      "Max Profit: 115171.00\n",
      "Max Drawdown: -1917.00\n",
      "\n",
      "Number of trades: 50\n",
      "Gross P&L: 43.82\n",
      "Gross Accumulated return: 0.75%\n",
      "Gross Average Return: 0.31%\n",
      "Net P&L: 43.82\n",
      "Hitting ratio: 42.00%\n",
      "Max Profit: 19.67\n",
      "Max Drawdown: -7.37\n",
      "\n"
     ]
    }
   ],
   "source": [
    "df_brk = formatDF('./data/BRK-A-train.csv', ind_list)\n",
    "df_jpm = formatDF('./data/JPM-train.csv', ind_list)\n",
    "\n",
    "import warnings\n",
    "warnings.filterwarnings('ignore')\n",
    "model_brk, scaler_brk, report_brk = train_test_model(df_brk)\n",
    "model_jpm, scaler_jpm, report_jpm = train_test_model(df_jpm)\n",
    "\n",
    "print('\\n-------------------------BRK-A-------------------------\\n' , report_unh)\n",
    "print('\\n-------------------------JPM-------------------------\\n' , report_jpm)\n",
    "\n",
    "clas_brk = MLClassifier(model_brk, 20, scaler_brk)\n",
    "clas_jpm = MLClassifier(model_jpm, 20, scaler_jpm)\n",
    "\n",
    "print(evaluateHist(clas_brk, {'BRK-A':'./data/BRK-A-back.csv'}))\n",
    "print(evaluateHist(clas_jpm, {'JPM':'./data/JPM-back.csv'}))"
   ]
  },
  {
   "cell_type": "code",
   "execution_count": 51,
   "metadata": {},
   "outputs": [
    {
     "output_type": "stream",
     "name": "stdout",
     "text": [
      "Number of trades: 1\nGross P&L: 127122.00\nGross Accumulated return: 41.78%\nGross Average Return: 41.78%\nNet P&L: 127122.00\nHitting ratio: 100.00%\nMax Profit: 127122.00\nMax Drawdown: 127122.00\n\nNumber of trades: 1\nGross P&L: 56.85\nGross Accumulated return: 54.68%\nGross Average Return: 54.68%\nNet P&L: 56.85\nHitting ratio: 100.00%\nMax Profit: 56.85\nMax Drawdown: 56.85\n\n"
     ]
    }
   ],
   "source": [
    "print(evaluateHist(BuynHold(), {'BRK-A':'./data/BRK-A-back.csv'}))\n",
    "print(evaluateHist(BuynHold(), {'JPM':'./data/JPM-back.csv'}))"
   ]
  },
  {
   "source": [
    "## Tecnológico\n",
    "### Mercado Brasileiro"
   ],
   "cell_type": "markdown",
   "metadata": {}
  },
  {
   "cell_type": "code",
   "execution_count": 52,
   "metadata": {},
   "outputs": [
    {
     "output_type": "stream",
     "name": "stdout",
     "text": [
      "\n",
      "-------------------------TOTS3.SA-------------------------\n",
      "               precision    recall  f1-score   support\n",
      "\n",
      "        -1.0       0.52      0.65      0.57       102\n",
      "         0.0       0.00      0.00      0.00         4\n",
      "         1.0       0.58      0.47      0.52       111\n",
      "\n",
      "    accuracy                           0.54       217\n",
      "   macro avg       0.37      0.37      0.36       217\n",
      "weighted avg       0.54      0.54      0.54       217\n",
      "\n",
      "\n",
      "-------------------------SQIA3.SA-------------------------\n",
      "               precision    recall  f1-score   support\n",
      "\n",
      "        -1.0       0.50      0.55      0.52        97\n",
      "         0.0       0.00      0.00      0.00         6\n",
      "         1.0       0.59      0.57      0.58       114\n",
      "\n",
      "    accuracy                           0.54       217\n",
      "   macro avg       0.36      0.37      0.37       217\n",
      "weighted avg       0.53      0.54      0.54       217\n",
      "\n",
      "Number of trades: 4\n",
      "Gross P&L: 12.31\n",
      "Gross Accumulated return: 21.32%\n",
      "Gross Average Return: 3.60%\n",
      "Net P&L: 12.31\n",
      "Hitting ratio: 50.00%\n",
      "Max Profit: 15.53\n",
      "Max Drawdown: -2.02\n",
      "\n",
      "Number of trades: 12\n",
      "Gross P&L: 9.26\n",
      "Gross Accumulated return: 7.35%\n",
      "Gross Average Return: 0.65%\n",
      "Net P&L: 9.26\n",
      "Hitting ratio: 75.00%\n",
      "Max Profit: 9.29\n",
      "Max Drawdown: -2.00\n",
      "\n"
     ]
    }
   ],
   "source": [
    "df_tots = formatDF('./data/TOTS3.SA-train.csv', ind_list)\n",
    "df_sqia = formatDF('./data/SQIA3.SA-train.csv', ind_list)\n",
    "\n",
    "import warnings\n",
    "warnings.filterwarnings('ignore')\n",
    "model_tots, scaler_tots, report_tots = train_test_model(df_tots)\n",
    "model_sqia, scaler_sqia, report_sqia = train_test_model(df_sqia)\n",
    "\n",
    "print('\\n-------------------------TOTS3.SA-------------------------\\n' , report_tots)\n",
    "print('\\n-------------------------SQIA3.SA-------------------------\\n' , report_sqia)\n",
    "\n",
    "clas_tots = MLClassifier(model_tots, 20, scaler_tots)\n",
    "clas_sqia = MLClassifier(model_sqia, 20, scaler_sqia)\n",
    "\n",
    "print(evaluateHist(clas_tots, {'TOTS3.SA':'./data/TOTS3.SA-back.csv'}))\n",
    "print(evaluateHist(clas_sqia, {'SQIA3.SA':'./data/SQIA3.SA-back.csv'}))"
   ]
  },
  {
   "cell_type": "code",
   "execution_count": 53,
   "metadata": {},
   "outputs": [
    {
     "output_type": "stream",
     "name": "stdout",
     "text": [
      "Number of trades: 1\nGross P&L: 18.40\nGross Accumulated return: 137.69%\nGross Average Return: 137.69%\nNet P&L: 18.40\nHitting ratio: 100.00%\nMax Profit: 18.40\nMax Drawdown: 18.40\n\nNumber of trades: 1\nGross P&L: 12.48\nGross Accumulated return: 130.37%\nGross Average Return: 130.37%\nNet P&L: 12.48\nHitting ratio: 100.00%\nMax Profit: 12.48\nMax Drawdown: 12.48\n\n"
     ]
    }
   ],
   "source": [
    "print(evaluateHist(BuynHold(), {'TOTS3.SA':'./data/TOTS3.SA-back.csv'}))\n",
    "print(evaluateHist(BuynHold(), {'SQIA3.SA':'./data/SQIA3.SA-back.csv'}))"
   ]
  },
  {
   "source": [
    "### Mercado Americano"
   ],
   "cell_type": "markdown",
   "metadata": {}
  },
  {
   "cell_type": "code",
   "execution_count": 54,
   "metadata": {},
   "outputs": [
    {
     "output_type": "stream",
     "name": "stdout",
     "text": [
      "\n",
      "-------------------------FB-------------------------\n",
      "               precision    recall  f1-score   support\n",
      "\n",
      "        -1.0       0.48      0.42      0.44       101\n",
      "         0.0       0.00      0.00      0.00         2\n",
      "         1.0       0.55      0.62      0.58       119\n",
      "\n",
      "    accuracy                           0.52       222\n",
      "   macro avg       0.34      0.35      0.34       222\n",
      "weighted avg       0.51      0.52      0.52       222\n",
      "\n",
      "\n",
      "-------------------------GOOGL-------------------------\n",
      "               precision    recall  f1-score   support\n",
      "\n",
      "        -1.0       0.60      0.23      0.33       111\n",
      "         1.0       0.52      0.85      0.65       111\n",
      "\n",
      "    accuracy                           0.54       222\n",
      "   macro avg       0.56      0.54      0.49       222\n",
      "weighted avg       0.56      0.54      0.49       222\n",
      "\n",
      "Number of trades: 66\n",
      "Gross P&L: -23.46\n",
      "Gross Accumulated return: -0.16%\n",
      "Gross Average Return: -0.03%\n",
      "Net P&L: -23.46\n",
      "Hitting ratio: 59.09%\n",
      "Max Profit: 28.04\n",
      "Max Drawdown: -55.09\n",
      "\n",
      "Number of trades: 61\n",
      "Gross P&L: 250.25\n",
      "Gross Accumulated return: 0.26%\n",
      "Gross Average Return: 0.14%\n",
      "Net P&L: 250.25\n",
      "Hitting ratio: 59.02%\n",
      "Max Profit: 257.15\n",
      "Max Drawdown: -205.62\n",
      "\n"
     ]
    }
   ],
   "source": [
    "df_fb = formatDF('./data/FB-train.csv', ind_list)\n",
    "df_googl = formatDF('./data/GOOGL-train.csv', ind_list)\n",
    "\n",
    "import warnings\n",
    "warnings.filterwarnings('ignore')\n",
    "model_fb, scaler_fb, report_fb = train_test_model(df_fb)\n",
    "model_googl, scaler_googl, report_googl = train_test_model(df_googl)\n",
    "\n",
    "print('\\n-------------------------FB-------------------------\\n' , report_fb)\n",
    "print('\\n-------------------------GOOGL-------------------------\\n' , report_googl)\n",
    "\n",
    "clas_fb = MLClassifier(model_fb, 20, scaler_fb)\n",
    "clas_googl = MLClassifier(model_googl, 20, scaler_googl)\n",
    "\n",
    "print(evaluateHist(clas_fb, {'FB':'./data/FB-back.csv'}))\n",
    "print(evaluateHist(clas_googl, {'GOOGL':'./data/GOOGL-back.csv'}))"
   ]
  },
  {
   "cell_type": "code",
   "execution_count": 55,
   "metadata": {},
   "outputs": [
    {
     "output_type": "stream",
     "name": "stdout",
     "text": [
      "Number of trades: 1\nGross P&L: 133.29\nGross Accumulated return: 71.92%\nGross Average Return: 71.92%\nNet P&L: 133.29\nHitting ratio: 100.00%\nMax Profit: 133.29\nMax Drawdown: 133.29\n\nNumber of trades: 1\nGross P&L: 1151.10\nGross Accumulated return: 99.59%\nGross Average Return: 99.59%\nNet P&L: 1151.10\nHitting ratio: 100.00%\nMax Profit: 1151.10\nMax Drawdown: 1151.10\n\n"
     ]
    }
   ],
   "source": [
    "print(evaluateHist(BuynHold(), {'FB':'./data/FB-back.csv'}))\n",
    "print(evaluateHist(BuynHold(), {'GOOGL':'./data/GOOGL-back.csv'}))"
   ]
  },
  {
   "cell_type": "code",
   "execution_count": null,
   "metadata": {},
   "outputs": [],
   "source": []
  }
 ]
}